{
 "cells": [
  {
   "cell_type": "code",
   "execution_count": null,
   "metadata": {},
   "outputs": [],
   "source": [
    "!pip install -r requirements.txt\n",
    "!pip install scikit-image\n",
    "!pip install deepface"
   ]
  },
  {
   "cell_type": "code",
   "execution_count": 2,
   "metadata": {},
   "outputs": [],
   "source": [
    "\n",
    "from skimage.metrics import structural_similarity as compare_ssim\n",
    "import os\n",
    "import cv2\n",
    "import numpy as np\n",
    "import warnings\n",
    "import time\n",
    "import math\n",
    "import torch\n",
    "from deepface import DeepFace\n",
    "from facenet_pytorch import MTCNN\n",
    "from src.anti_spoof_predict import AntiSpoofPredict\n",
    "from src.generate_patches import CropImage\n",
    "from src.utility import parse_model_name\n",
    "warnings.filterwarnings('ignore')\n"
   ]
  },
  {
   "cell_type": "code",
   "execution_count": 5,
   "metadata": {},
   "outputs": [],
   "source": [
    "device = torch.device(\"cpu\")\n",
    "\n",
    "# Create the model\n",
    "mtcnn = MTCNN(keep_all=True, device=device)"
   ]
  },
  {
   "cell_type": "code",
   "execution_count": 15,
   "metadata": {},
   "outputs": [],
   "source": [
    "###implement fps limiter\n",
    "fps_limit = 10\n",
    "frame_number = 0\n",
    "start_time = 0\n",
    "cap= cv2.VideoCapture(\"/home/sidk_1023/Facial_Recognition_Pipeline-main/face-demographics-walking-and-pause.mp4\")\n"
   ]
  },
  {
   "cell_type": "code",
   "execution_count": 7,
   "metadata": {},
   "outputs": [],
   "source": [
    "framediff_pass = True"
   ]
  },
  {
   "cell_type": "code",
   "execution_count": 16,
   "metadata": {},
   "outputs": [],
   "source": [
    "class FrameDif:\n",
    "    def __init__(self,threshold):\n",
    "        self.threshold = threshold\n",
    "    def ssim(self,curr_time,prev_time):\n",
    "        cap.set(cv2.CAP_PROP_POS_MSEC,curr_time) \n",
    "        ret,curr_frame = cap.read()\n",
    "        cv2.imshow('curr_frame',curr_frame)\n",
    "        #curr_frame = cv2.resize(curr_frame, (600, 400))\n",
    "        cap.set(cv2.CAP_PROP_POS_MSEC,prev_time) \n",
    "        ret,prev_frame = cap.read()\n",
    "        #prev_frame = cv2.resize(prev_frame, (600, 400))\n",
    "        current_frame_gray = cv2.cvtColor(curr_frame, cv2.COLOR_BGR2GRAY)\n",
    "        previous_frame_gray = cv2.cvtColor(prev_frame, cv2.COLOR_BGR2GRAY)\n",
    "        (score,frame_diff) = compare_ssim(previous_frame_gray,current_frame_gray,full = True)\n",
    "        if (score< self.threshold):\n",
    "            framediff_pass = False\n",
    "            return(curr_time)\n",
    "        return(-1)\n",
    "        "
   ]
  },
  {
   "cell_type": "code",
   "execution_count": 18,
   "metadata": {},
   "outputs": [
    {
     "data": {
      "text/plain": [
       "10000"
      ]
     },
     "execution_count": 18,
     "metadata": {},
     "output_type": "execute_result"
    }
   ],
   "source": [
    "framedif = FrameDif(0.99)\n",
    "tcurr = 10000\n",
    "tprev = 1000\n",
    "val = framedif.ssim(tcurr,tprev)\n",
    "val"
   ]
  },
  {
   "cell_type": "code",
   "execution_count": 22,
   "metadata": {},
   "outputs": [
    {
     "name": "stdout",
     "output_type": "stream",
     "text": [
      "I am out of loop 10043\n"
     ]
    }
   ],
   "source": [
    "tcurr = 10000\n",
    "tprev =10000\n",
    "framediff_flag = True\n",
    "while(framediff_flag):\n",
    "    timestamp =framedif.ssim(tcurr,tprev)\n",
    "    tprev = tcurr \n",
    "    tcurr = tcurr+1\n",
    "    if timestamp>0:\n",
    "        framediff_flag =False\n",
    "    \n",
    "print('I am out of loop '+ str(tcurr))\n",
    "    "
   ]
  },
  {
   "cell_type": "code",
   "execution_count": 68,
   "metadata": {},
   "outputs": [
    {
     "data": {
      "text/plain": [
       "2000"
      ]
     },
     "execution_count": 68,
     "metadata": {},
     "output_type": "execute_result"
    }
   ],
   "source": [
    "tcurr"
   ]
  },
  {
   "cell_type": "code",
   "execution_count": 14,
   "metadata": {},
   "outputs": [],
   "source": [
    "#framediff_flag\n",
    "cap.set(cv2.CAP_PROP_POS_MSEC, 10000 )\n",
    "ret, frame = cap.read()\n",
    "cv2.imshow(\"Frame\", frame)\n",
    "if ret:\n",
    "    #cv2.imshow(\"Frame\", frame)\n",
    "    boxes, conf = mtcnn.detect(frame)\n",
    "    # conf is a list of the confidence values of each detection\n",
    "    # box is a list of four tuples where each of the tuples\n",
    "    # contain the x,y,width,height of a box that contains the detected face\n",
    "\n",
    "    #    print('\\n boxes: ', boxes)\n",
    "    #    print('\\n conf: ', conf)\n",
    "    # Define a confidence threshold:\n",
    "    confidence_threshold = 0.95\n",
    "    multiple_faces_detected = False\n",
    "    no_face_detected = False\n",
    "    n_faces = 0\n",
    "\n",
    "    for i in conf:\n",
    "\n",
    "        if i == None: boxes, conf = mtcnn.detect(frame)\n",
    "    # conf is a list of the confidence values of each detection\n",
    "    # box is a list of four tuples where each of the tuples\n",
    "    # contain the x,y,width,height of a box that contains the detected face\n",
    "\n",
    "    #    print('\\n boxes: ', boxes)\n",
    "    #    print('\\n conf: ', conf)\n",
    "    # Define a confidence threshold:\n",
    "    confidence_threshold = 0.95\n",
    "    multiple_faces_detected = False\n",
    "    no_face_detected = False\n",
    "    n_faces = 0\n",
    "\n",
    "    for i in conf:\n",
    "\n",
    "        if i == None:\n",
    "            i = 0\n",
    "        if i > confidence_threshold:\n",
    "            n_faces += 1\n",
    "\n",
    "            i = 0\n",
    "        if i > confidence_threshold:\n",
    "            n_faces += 1\n",
    "\n",
    "    if n_faces > 1:\n",
    "        multiple_faces = True\n",
    "    else:\n",
    "        multiple_faces = False\n",
    "\n",
    "    if n_faces == 0:\n",
    "        no_face_detected = True\n",
    "\n",
    "    if multiple_faces == True:\n",
    "        print(\n",
    "            str(n_faces)\n",
    "            + \" faces detected! \"\n",
    "            + \"for frame: \"\n",
    "            + str(frame_number)\n",
    "            + \" whose timestamp is: \",\n",
    "            str(cap.get(cv2.CAP_PROP_POS_MSEC)),\n",
    "        )\n",
    "\n",
    "    if no_face_detected == True:\n",
    "        print(\n",
    "            \"No face detected!\"\n",
    "            + \"for frame: \"\n",
    "            + str(frame_number)\n",
    "            + \" whose timestamp is: \",\n",
    "            str(cap.get(cv2.CAP_PROP_POS_MSEC)),\n",
    "        )\n",
    "\n",
    "    frame_number += 1\n",
    "\n",
    "    n_faces_str = \"No. of faces = \" + str(n_faces)\n",
    "    frame_number_str = \"Frame No. = \" + str(frame_number)\n",
    "    time_stamp_str = \"Timestamp = \" + \\\n",
    "        str(cap.get(cv2.CAP_PROP_POS_MSEC))\n",
    "\n",
    "    if conf[0] != None:\n",
    "        for (x, y, w, h) in boxes:\n",
    "            text = f\"{conf[0]*100:.2f}%\"\n",
    "            x, y, w, h = int(x), int(y), int(w), int(h)\n",
    "\n",
    "            cv2.putText(\n",
    "                frame,\n",
    "                text,\n",
    "                (x, y - 20),\n",
    "                cv2.FONT_HERSHEY_SIMPLEX,\n",
    "                0.5,\n",
    "                (0, 255, 0),\n",
    "                1,\n",
    "            )\n",
    "\n",
    "            cv2.rectangle(frame, (x, y), (w, h), (0, 255, 0), 1)\n",
    "\n",
    "    cv2.putText(\n",
    "        frame,\n",
    "        frame_number_str,\n",
    "        (0, 15),\n",
    "        cv2.FONT_HERSHEY_SIMPLEX,\n",
    "        0.5,\n",
    "        (0, 255, 0),\n",
    "        1,\n",
    "    )\n",
    "\n",
    "    cv2.putText(\n",
    "        frame,\n",
    "        time_stamp_str,\n",
    "        (0, 30),\n",
    "        cv2.FONT_HERSHEY_SIMPLEX,\n",
    "        0.5,\n",
    "        (0, 255, 0),\n",
    "        1,\n",
    "    )\n",
    "\n",
    "    cv2.putText(\n",
    "        frame,\n",
    "        n_faces_str,\n",
    "        (0, 45),\n",
    "        cv2.FONT_HERSHEY_SIMPLEX,\n",
    "        0.5,\n",
    "        (0, 255, 0),\n",
    "        1,\n",
    "    )\n",
    "#\n",
    "# cv2.imshow(\"Frame\", frame)\n",
    "    \n",
    "# if cv2.waitKey(25) & 0xFF == ord(\"q\"):cap\n",
    "#     break\n",
    "\n"
   ]
  },
  {
   "cell_type": "markdown",
   "metadata": {},
   "source": []
  }
 ],
 "metadata": {
  "interpreter": {
   "hash": "31f2aee4e71d21fbe5cf8b01ff0e069b9275f58929596ceb00d14d90e3e16cd6"
  },
  "kernelspec": {
   "display_name": "Python 3.8.10 64-bit",
   "language": "python",
   "name": "python3"
  },
  "language_info": {
   "codemirror_mode": {
    "name": "ipython",
    "version": 3
   },
   "file_extension": ".py",
   "mimetype": "text/x-python",
   "name": "python",
   "nbconvert_exporter": "python",
   "pygments_lexer": "ipython3",
   "version": "3.8.10"
  },
  "orig_nbformat": 4
 },
 "nbformat": 4,
 "nbformat_minor": 2
}
