{
 "cells": [
  {
   "cell_type": "code",
   "execution_count": null,
   "metadata": {},
   "outputs": [
    {
     "ename": "",
     "evalue": "",
     "output_type": "error",
     "traceback": [
      "\u001b[1;31mRunning cells with 'Python 3.5.6 ('frenv': venv)' requires ipykernel package.\n",
      "Run the following command to install 'ipykernel' into the Python environment. \n",
      "Command: '/home/sidk_1023/Silent-Face-Anti-Spoofing/frenv/bin/python -m pip install ipykernel -U --force-reinstall'"
     ]
    }
   ],
   "source": [
    "!pip install -r requirements.txt\n",
    "!pip install scikit-image\n",
    "!pip install opencv_python"
   ]
  },
  {
   "cell_type": "markdown",
   "metadata": {},
   "source": [
    "## Frame Difference\n"
   ]
  },
  {
   "cell_type": "code",
   "execution_count": 19,
   "metadata": {},
   "outputs": [
    {
     "name": "stdout",
     "output_type": "stream",
     "text": [
      "Change at frame: 350 at time 11678.333333333334\n",
      "Change at frame: 543 at time 18118.333333333336\n",
      "Change at frame: 747 at time 24926.666666666668\n"
     ]
    }
   ],
   "source": [
    "import cv2\n",
    "import time\n",
    "from skimage.metrics import structural_similarity as compare_ssim\n",
    "\n",
    "fps_limit = 1\n",
    "threshold = 0.90\n",
    "font = cv2.FONT_HERSHEY_SIMPLEX\n",
    "capture= cv2.VideoCapture(\"/home/sidk_1023/Videos/Webcam/WhatsApp Video 2022-02-20 at 12.46.21.mp4\")\n",
    "frame_number = 0\n",
    "\n",
    "start_time = 0\n",
    "ret, current_frame = capture.read()\n",
    "previous_frame = current_frame\n",
    "\n",
    "\n",
    "while(True):\n",
    "    try:\n",
    "        now_time = time.time()-start_time\n",
    "        if now_time > 1.0 / fps_limit:\n",
    "            start_time = time.time()  # reset the time\n",
    "            current_frame_gray = cv2.cvtColor(current_frame, cv2.COLOR_BGR2GRAY)\n",
    "            previous_frame_gray = cv2.cvtColor(previous_frame, cv2.COLOR_BGR2GRAY)    \n",
    "            (score,frame_diff) = compare_ssim(previous_frame_gray,current_frame_gray,full = True)\n",
    "            text = str(score)\n",
    "            \n",
    "            if (score<threshold):\n",
    "                cv2.putText(current_frame, 'Change: '+text, (50,50), font, 1, (0, 0, 255), 2)\n",
    "                print(f'Change at frame: {frame_number} at time {str(capture.get(cv2.CAP_PROP_POS_MSEC))}')\n",
    "                \n",
    "            else:\n",
    "                cv2.putText(current_frame, 'No Change: '+text, (50,50), font, 1, (0, 255, 0), 2)\n",
    "            \n",
    "        cv2.imshow('frame diff ',current_frame)  \n",
    "        previous_frame = current_frame.copy()\n",
    "        ret, current_frame = capture.read() \n",
    "        frame_number+=1          \n",
    "    except cv2.error:\n",
    "        break   \n",
    "    \n",
    "    if cv2.waitKey(1) & 0xFF == ord('q'):\n",
    "        break\n",
    "         \n",
    "capture.release()\n",
    "cv2.destroyAllWindows()"
   ]
  },
  {
   "cell_type": "markdown",
   "metadata": {},
   "source": [
    "## Anti Spoofing"
   ]
  },
  {
   "cell_type": "code",
   "execution_count": 1,
   "metadata": {},
   "outputs": [
    {
     "name": "stdout",
     "output_type": "stream",
     "text": [
      "fake face at frame: 118 at time 3936.666666666667\n",
      "fake face at frame: 288 at time 9610.000000000002\n",
      "fake face at frame: 313 at time 10445.0\n",
      "fake face at frame: 338 at time 11278.333333333334\n",
      "fake face at frame: 363 at time 12113.333333333334\n",
      "fake face at frame: 412 at time 13748.333333333336\n",
      "fake face at frame: 460 at time 15350.000000000002\n",
      "fake face at frame: 485 at time 16183.333333333334\n",
      "fake face at frame: 510 at time 17018.333333333336\n",
      "fake face at frame: 535 at time 17851.666666666668\n",
      "fake face at frame: 559 at time 18653.333333333336\n"
     ]
    }
   ],
   "source": [
    "import os\n",
    "import cv2\n",
    "import numpy as np\n",
    "import warnings\n",
    "import time\n",
    "from src.anti_spoof_predict import AntiSpoofPredict\n",
    "from src.generate_patches import CropImage\n",
    "from src.utility import parse_model_name\n",
    "warnings.filterwarnings('ignore')\n",
    "\n",
    "fps_limit = 1\n",
    "frame_number = 0\n",
    "start_time = 0\n",
    "\n",
    "cascPath = '/home/sidk_1023/spoofing_detection/python_scripts/haarcascade_frontalface_default.xml'\n",
    "faceCascade = cv2.CascadeClassifier(cascPath)\n",
    "cap = cv2.VideoCapture(\"/home/sidk_1023/Videos/Webcam/WhatsApp Video 2022-02-20 at 12.46.21.mp4\")\n",
    "model_dir = \"./resources/anti_spoof_models\"\n",
    "while(True):\n",
    "    try:\n",
    "        model_test = AntiSpoofPredict(0)\n",
    "        image_cropper = CropImage()\n",
    "        now_time = time.time()-start_time\n",
    "        ret, frame = cap.read()\n",
    "        if now_time > 1.0 / fps_limit:\n",
    "            start_time = time.time() \n",
    "            image_bbox = model_test.get_bbox(frame)\n",
    "            prediction = np.zeros((1, 3))\n",
    "            # sum the prediction from single model's result\n",
    "            for model_name in os.listdir(model_dir):\n",
    "                h_input, w_input, model_type, scale = parse_model_name(model_name)\n",
    "                param = {\n",
    "                    \"org_img\": frame,\n",
    "                    \"bbox\": image_bbox,\n",
    "                    \"scale\": scale,\n",
    "                    \"out_w\": w_input,\n",
    "                    \"out_h\": h_input,\n",
    "                    \"crop\": True,\n",
    "                }\n",
    "                if scale is None:\n",
    "                    param[\"crop\"] = False\n",
    "                img = image_cropper.crop(**param)\n",
    "                \n",
    "                prediction += model_test.predict(img, os.path.join(model_dir, model_name))\n",
    "                \n",
    "\n",
    "            # draw result of prediction\n",
    "            label = np.argmax(prediction)\n",
    "            value = prediction[0][label]\n",
    "            if label == 1:\n",
    "                #print(\"Image '{}' is Real Face. Score: {:.2f}.\".format(image_name, value))\n",
    "                \n",
    "                result_text = \"RealFace Score: {:.2f}\".format(value)\n",
    "                color = (255, 0, 0)\n",
    "            else:\n",
    "                #print(\"Image '{}' is Fake Face. Score: {:.2f}.\".format(image_name, value))\n",
    "                print(f'fake face at frame: {frame_number} at time {str(cap.get(cv2.CAP_PROP_POS_MSEC))}')\n",
    "                result_text = \"FakeFace Score: {:.2f}\".format(value)\n",
    "                color = (0, 0, 255)\n",
    "            #print(\"Prediction cost {:.2f} s\".format(test_speed))\n",
    "            cv2.rectangle(\n",
    "                frame,\n",
    "                (image_bbox[0], image_bbox[1]),\n",
    "                (image_bbox[0] + image_bbox[2], image_bbox[1] + image_bbox[3]),\n",
    "                color, 2)\n",
    "            cv2.putText(\n",
    "                frame,\n",
    "                result_text,\n",
    "                (image_bbox[0], image_bbox[1] - 5),\n",
    "                cv2.FONT_HERSHEY_COMPLEX, 0.5*frame.shape[0]/1024, color)\n",
    "\n",
    "        frame_number+=1\n",
    "        cv2.imshow(\"Frame\", frame)\n",
    "        if cv2.waitKey(25) & 0xFF == ord('q'):\n",
    "            break\n",
    "    except cv2.error:\n",
    "        break \n",
    "        \n",
    "\n",
    "cap.release()\n",
    "cv2.destroyAllWindows()"
   ]
  },
  {
   "cell_type": "code",
   "execution_count": 7,
   "metadata": {},
   "outputs": [
    {
     "name": "stdout",
     "output_type": "stream",
     "text": [
      "Requirement already satisfied: torch in /home/sidk_1023/.local/lib/python3.8/site-packages (1.11.0)\n",
      "Requirement already satisfied: typing-extensions in /home/sidk_1023/.local/lib/python3.8/site-packages (from torch) (4.1.1)\n"
     ]
    }
   ],
   "source": [
    "!pip install torch"
   ]
  },
  {
   "cell_type": "code",
   "execution_count": null,
   "metadata": {},
   "outputs": [],
   "source": []
  }
 ],
 "metadata": {
  "interpreter": {
   "hash": "31f2aee4e71d21fbe5cf8b01ff0e069b9275f58929596ceb00d14d90e3e16cd6"
  },
  "kernelspec": {
   "display_name": "Python 3.8.10 64-bit",
   "language": "python",
   "name": "python3"
  },
  "language_info": {
   "codemirror_mode": {
    "name": "ipython",
    "version": 3
   },
   "file_extension": ".py",
   "mimetype": "text/x-python",
   "name": "python",
   "nbconvert_exporter": "python",
   "pygments_lexer": "ipython3",
   "version": "3.8.10"
  },
  "orig_nbformat": 4
 },
 "nbformat": 4,
 "nbformat_minor": 2
}
